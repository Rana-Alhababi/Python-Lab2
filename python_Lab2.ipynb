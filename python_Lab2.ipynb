{
  "nbformat": 4,
  "nbformat_minor": 0,
  "metadata": {
    "colab": {
      "provenance": []
    },
    "kernelspec": {
      "name": "python3",
      "display_name": "Python 3"
    },
    "language_info": {
      "name": "python"
    }
  },
  "cells": [
    {
      "cell_type": "markdown",
      "source": [
        "Create a variable for the movie (choose any movie you like)."
      ],
      "metadata": {
        "id": "fYh0OYQFS-S_"
      }
    },
    {
      "cell_type": "code",
      "source": [
        "movie = \"Cinderella\""
      ],
      "metadata": {
        "id": "s_t1Rk8yS-9g"
      },
      "execution_count": 1,
      "outputs": []
    },
    {
      "cell_type": "markdown",
      "source": [
        "Create a variable of type int to hold the rating of the movie out of 5. Give this movie rate = 3"
      ],
      "metadata": {
        "id": "mlUO21BmTIRW"
      }
    },
    {
      "cell_type": "code",
      "source": [
        "rating = 3"
      ],
      "metadata": {
        "id": "0Pu3VFZKTBX_"
      },
      "execution_count": 2,
      "outputs": []
    },
    {
      "cell_type": "markdown",
      "source": [
        "Create a popularity score of type float, let it be 72.65"
      ],
      "metadata": {
        "id": "JtTiFnhZTNGV"
      }
    },
    {
      "cell_type": "code",
      "source": [
        "\n",
        "popularity = 72.65"
      ],
      "metadata": {
        "id": "bBL1zuk_TCir"
      },
      "execution_count": 3,
      "outputs": []
    },
    {
      "cell_type": "markdown",
      "source": [
        "Using an if statement:\n",
        "Check if the movie rating is 4 or greater and the popularity is greater than 80, print \"Highly recommended\".\n",
        "Else if the movie rating is 3 or greater and the popularity is greater than 70, print \"I recommended it, It is good\".\n",
        "Else if the movie rating is 2 or less and the popularity is greater than 60, print \"You should check it out!\".\n",
        "Else the movie rating is 2 or less and the popularity is less than 50, print \"Don't watch it, It is a waste of time\"."
      ],
      "metadata": {
        "id": "Tmc78JSKTRfv"
      }
    },
    {
      "cell_type": "code",
      "execution_count": 4,
      "metadata": {
        "colab": {
          "base_uri": "https://localhost:8080/"
        },
        "id": "KnABRpPOSzoL",
        "outputId": "2b9e19a5-644f-4402-8c8b-b7fcffe37808"
      },
      "outputs": [
        {
          "output_type": "stream",
          "name": "stdout",
          "text": [
            "I recommended it, It is good\n"
          ]
        }
      ],
      "source": [
        "\n",
        "if rating >= 4 and popularity > 80:\n",
        "    print(\"Highly recommended\")\n",
        "elif rating >= 3 and popularity > 70:\n",
        "    print(\"I recommended it, It is good\")\n",
        "elif rating <= 2 and popularity > 60:\n",
        "    print(\"You should check it out!\")\n",
        "elif rating <= 2 and popularity < 50:\n",
        "    print(\"Don't watch it, It is a waste of time\")"
      ]
    }
  ]
}